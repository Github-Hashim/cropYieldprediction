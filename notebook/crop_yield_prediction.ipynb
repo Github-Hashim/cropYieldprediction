{
 "cells": [
  {
   "cell_type": "code",
   "execution_count": 1,
   "id": "9874f61c-c515-48ce-a0ec-9333889fce26",
   "metadata": {},
   "outputs": [],
   "source": [
    "import pandas as pd\n",
    "df = pd.read_excel('crop yield data sheet.xlsx')"
   ]
  },
  {
   "cell_type": "code",
   "execution_count": 2,
   "id": "321d9b67-f920-4648-b596-e84754398efb",
   "metadata": {},
   "outputs": [
    {
     "data": {
      "text/html": [
       "<div>\n",
       "<style scoped>\n",
       "    .dataframe tbody tr th:only-of-type {\n",
       "        vertical-align: middle;\n",
       "    }\n",
       "\n",
       "    .dataframe tbody tr th {\n",
       "        vertical-align: top;\n",
       "    }\n",
       "\n",
       "    .dataframe thead th {\n",
       "        text-align: right;\n",
       "    }\n",
       "</style>\n",
       "<table border=\"1\" class=\"dataframe\">\n",
       "  <thead>\n",
       "    <tr style=\"text-align: right;\">\n",
       "      <th></th>\n",
       "      <th>Rain Fall (mm)</th>\n",
       "      <th>Fertilizer</th>\n",
       "      <th>Temperatue</th>\n",
       "      <th>Nitrogen (N)</th>\n",
       "      <th>Phosphorus (P)</th>\n",
       "      <th>Potassium (K)</th>\n",
       "      <th>Yeild (Q/acre)</th>\n",
       "    </tr>\n",
       "  </thead>\n",
       "  <tbody>\n",
       "    <tr>\n",
       "      <th>0</th>\n",
       "      <td>1230.0</td>\n",
       "      <td>80.0</td>\n",
       "      <td>28</td>\n",
       "      <td>80.0</td>\n",
       "      <td>24.0</td>\n",
       "      <td>20.0</td>\n",
       "      <td>12.0</td>\n",
       "    </tr>\n",
       "    <tr>\n",
       "      <th>1</th>\n",
       "      <td>480.0</td>\n",
       "      <td>60.0</td>\n",
       "      <td>36</td>\n",
       "      <td>70.0</td>\n",
       "      <td>20.0</td>\n",
       "      <td>18.0</td>\n",
       "      <td>8.0</td>\n",
       "    </tr>\n",
       "    <tr>\n",
       "      <th>2</th>\n",
       "      <td>1250.0</td>\n",
       "      <td>75.0</td>\n",
       "      <td>29</td>\n",
       "      <td>78.0</td>\n",
       "      <td>22.0</td>\n",
       "      <td>19.0</td>\n",
       "      <td>11.0</td>\n",
       "    </tr>\n",
       "    <tr>\n",
       "      <th>3</th>\n",
       "      <td>450.0</td>\n",
       "      <td>65.0</td>\n",
       "      <td>35</td>\n",
       "      <td>70.0</td>\n",
       "      <td>19.0</td>\n",
       "      <td>18.0</td>\n",
       "      <td>9.0</td>\n",
       "    </tr>\n",
       "    <tr>\n",
       "      <th>4</th>\n",
       "      <td>1200.0</td>\n",
       "      <td>80.0</td>\n",
       "      <td>27</td>\n",
       "      <td>79.0</td>\n",
       "      <td>22.0</td>\n",
       "      <td>19.0</td>\n",
       "      <td>11.0</td>\n",
       "    </tr>\n",
       "  </tbody>\n",
       "</table>\n",
       "</div>"
      ],
      "text/plain": [
       "   Rain Fall (mm)  Fertilizer Temperatue  Nitrogen (N)  Phosphorus (P)  \\\n",
       "0          1230.0        80.0         28          80.0            24.0   \n",
       "1           480.0        60.0         36          70.0            20.0   \n",
       "2          1250.0        75.0         29          78.0            22.0   \n",
       "3           450.0        65.0         35          70.0            19.0   \n",
       "4          1200.0        80.0         27          79.0            22.0   \n",
       "\n",
       "   Potassium (K)  Yeild (Q/acre)  \n",
       "0           20.0            12.0  \n",
       "1           18.0             8.0  \n",
       "2           19.0            11.0  \n",
       "3           18.0             9.0  \n",
       "4           19.0            11.0  "
      ]
     },
     "execution_count": 2,
     "metadata": {},
     "output_type": "execute_result"
    }
   ],
   "source": [
    "df.head()"
   ]
  },
  {
   "cell_type": "code",
   "execution_count": 3,
   "id": "65ec2c04-fabf-4f16-9826-5758a1e9fc05",
   "metadata": {},
   "outputs": [
    {
     "data": {
      "text/html": [
       "<div>\n",
       "<style scoped>\n",
       "    .dataframe tbody tr th:only-of-type {\n",
       "        vertical-align: middle;\n",
       "    }\n",
       "\n",
       "    .dataframe tbody tr th {\n",
       "        vertical-align: top;\n",
       "    }\n",
       "\n",
       "    .dataframe thead th {\n",
       "        text-align: right;\n",
       "    }\n",
       "</style>\n",
       "<table border=\"1\" class=\"dataframe\">\n",
       "  <thead>\n",
       "    <tr style=\"text-align: right;\">\n",
       "      <th></th>\n",
       "      <th>Rain Fall (mm)</th>\n",
       "      <th>Fertilizer</th>\n",
       "      <th>Nitrogen (N)</th>\n",
       "      <th>Phosphorus (P)</th>\n",
       "      <th>Potassium (K)</th>\n",
       "      <th>Yeild (Q/acre)</th>\n",
       "    </tr>\n",
       "  </thead>\n",
       "  <tbody>\n",
       "    <tr>\n",
       "      <th>count</th>\n",
       "      <td>99.000000</td>\n",
       "      <td>99.000000</td>\n",
       "      <td>99.000000</td>\n",
       "      <td>99.000000</td>\n",
       "      <td>99.000000</td>\n",
       "      <td>99.000000</td>\n",
       "    </tr>\n",
       "    <tr>\n",
       "      <th>mean</th>\n",
       "      <td>849.797980</td>\n",
       "      <td>67.808081</td>\n",
       "      <td>70.737374</td>\n",
       "      <td>21.131313</td>\n",
       "      <td>18.060606</td>\n",
       "      <td>9.050505</td>\n",
       "    </tr>\n",
       "    <tr>\n",
       "      <th>std</th>\n",
       "      <td>400.042676</td>\n",
       "      <td>10.028202</td>\n",
       "      <td>6.677079</td>\n",
       "      <td>1.951695</td>\n",
       "      <td>1.817254</td>\n",
       "      <td>1.965902</td>\n",
       "    </tr>\n",
       "    <tr>\n",
       "      <th>min</th>\n",
       "      <td>400.000000</td>\n",
       "      <td>50.000000</td>\n",
       "      <td>59.000000</td>\n",
       "      <td>18.000000</td>\n",
       "      <td>15.000000</td>\n",
       "      <td>5.500000</td>\n",
       "    </tr>\n",
       "    <tr>\n",
       "      <th>25%</th>\n",
       "      <td>450.000000</td>\n",
       "      <td>60.000000</td>\n",
       "      <td>65.000000</td>\n",
       "      <td>19.500000</td>\n",
       "      <td>16.000000</td>\n",
       "      <td>7.000000</td>\n",
       "    </tr>\n",
       "    <tr>\n",
       "      <th>50%</th>\n",
       "      <td>1150.000000</td>\n",
       "      <td>70.000000</td>\n",
       "      <td>71.000000</td>\n",
       "      <td>21.000000</td>\n",
       "      <td>19.000000</td>\n",
       "      <td>9.000000</td>\n",
       "    </tr>\n",
       "    <tr>\n",
       "      <th>75%</th>\n",
       "      <td>1237.500000</td>\n",
       "      <td>77.000000</td>\n",
       "      <td>77.000000</td>\n",
       "      <td>23.000000</td>\n",
       "      <td>19.000000</td>\n",
       "      <td>11.000000</td>\n",
       "    </tr>\n",
       "    <tr>\n",
       "      <th>max</th>\n",
       "      <td>1300.000000</td>\n",
       "      <td>80.000000</td>\n",
       "      <td>80.000000</td>\n",
       "      <td>25.000000</td>\n",
       "      <td>22.000000</td>\n",
       "      <td>12.000000</td>\n",
       "    </tr>\n",
       "  </tbody>\n",
       "</table>\n",
       "</div>"
      ],
      "text/plain": [
       "       Rain Fall (mm)  Fertilizer  Nitrogen (N)  Phosphorus (P)  \\\n",
       "count       99.000000   99.000000     99.000000       99.000000   \n",
       "mean       849.797980   67.808081     70.737374       21.131313   \n",
       "std        400.042676   10.028202      6.677079        1.951695   \n",
       "min        400.000000   50.000000     59.000000       18.000000   \n",
       "25%        450.000000   60.000000     65.000000       19.500000   \n",
       "50%       1150.000000   70.000000     71.000000       21.000000   \n",
       "75%       1237.500000   77.000000     77.000000       23.000000   \n",
       "max       1300.000000   80.000000     80.000000       25.000000   \n",
       "\n",
       "       Potassium (K)  Yeild (Q/acre)  \n",
       "count      99.000000       99.000000  \n",
       "mean       18.060606        9.050505  \n",
       "std         1.817254        1.965902  \n",
       "min        15.000000        5.500000  \n",
       "25%        16.000000        7.000000  \n",
       "50%        19.000000        9.000000  \n",
       "75%        19.000000       11.000000  \n",
       "max        22.000000       12.000000  "
      ]
     },
     "execution_count": 3,
     "metadata": {},
     "output_type": "execute_result"
    }
   ],
   "source": [
    "df.describe()"
   ]
  },
  {
   "cell_type": "code",
   "execution_count": 4,
   "id": "415c881c-c370-4a1c-a2c2-aea0cf1a9b87",
   "metadata": {},
   "outputs": [
    {
     "name": "stdout",
     "output_type": "stream",
     "text": [
      "<class 'pandas.core.frame.DataFrame'>\n",
      "RangeIndex: 109 entries, 0 to 108\n",
      "Data columns (total 7 columns):\n",
      " #   Column          Non-Null Count  Dtype  \n",
      "---  ------          --------------  -----  \n",
      " 0   Rain Fall (mm)  99 non-null     float64\n",
      " 1   Fertilizer      99 non-null     float64\n",
      " 2   Temperatue      100 non-null    object \n",
      " 3   Nitrogen (N)    99 non-null     float64\n",
      " 4   Phosphorus (P)  99 non-null     float64\n",
      " 5   Potassium (K)   99 non-null     float64\n",
      " 6   Yeild (Q/acre)  99 non-null     float64\n",
      "dtypes: float64(6), object(1)\n",
      "memory usage: 6.1+ KB\n"
     ]
    }
   ],
   "source": [
    "df.info()"
   ]
  },
  {
   "cell_type": "markdown",
   "id": "aceda110-92c1-42f2-a1a5-0c6b1bd07704",
   "metadata": {},
   "source": [
    "# Handling the missing values"
   ]
  },
  {
   "cell_type": "code",
   "execution_count": 5,
   "id": "4c0e61a1-9f6e-4389-a3c4-f2af46244a45",
   "metadata": {},
   "outputs": [
    {
     "data": {
      "text/plain": [
       "Rain Fall (mm)    10\n",
       "Fertilizer        10\n",
       "Temperatue         9\n",
       "Nitrogen (N)      10\n",
       "Phosphorus (P)    10\n",
       "Potassium (K)     10\n",
       "Yeild (Q/acre)    10\n",
       "dtype: int64"
      ]
     },
     "execution_count": 5,
     "metadata": {},
     "output_type": "execute_result"
    }
   ],
   "source": [
    "df.isnull().sum()"
   ]
  },
  {
   "cell_type": "code",
   "execution_count": 6,
   "id": "e2bbab93-3e6a-4743-a7f2-b83af7d04bc9",
   "metadata": {},
   "outputs": [
    {
     "data": {
      "text/html": [
       "<div>\n",
       "<style scoped>\n",
       "    .dataframe tbody tr th:only-of-type {\n",
       "        vertical-align: middle;\n",
       "    }\n",
       "\n",
       "    .dataframe tbody tr th {\n",
       "        vertical-align: top;\n",
       "    }\n",
       "\n",
       "    .dataframe thead th {\n",
       "        text-align: right;\n",
       "    }\n",
       "</style>\n",
       "<table border=\"1\" class=\"dataframe\">\n",
       "  <thead>\n",
       "    <tr style=\"text-align: right;\">\n",
       "      <th></th>\n",
       "      <th>Rain Fall (mm)</th>\n",
       "      <th>Fertilizer</th>\n",
       "      <th>Temperatue</th>\n",
       "      <th>Nitrogen (N)</th>\n",
       "      <th>Phosphorus (P)</th>\n",
       "      <th>Potassium (K)</th>\n",
       "      <th>Yeild (Q/acre)</th>\n",
       "    </tr>\n",
       "  </thead>\n",
       "  <tbody>\n",
       "    <tr>\n",
       "      <th>99</th>\n",
       "      <td>NaN</td>\n",
       "      <td>NaN</td>\n",
       "      <td>NaN</td>\n",
       "      <td>NaN</td>\n",
       "      <td>NaN</td>\n",
       "      <td>NaN</td>\n",
       "      <td>NaN</td>\n",
       "    </tr>\n",
       "    <tr>\n",
       "      <th>100</th>\n",
       "      <td>NaN</td>\n",
       "      <td>NaN</td>\n",
       "      <td>NaN</td>\n",
       "      <td>NaN</td>\n",
       "      <td>NaN</td>\n",
       "      <td>NaN</td>\n",
       "      <td>NaN</td>\n",
       "    </tr>\n",
       "    <tr>\n",
       "      <th>101</th>\n",
       "      <td>NaN</td>\n",
       "      <td>NaN</td>\n",
       "      <td>NaN</td>\n",
       "      <td>NaN</td>\n",
       "      <td>NaN</td>\n",
       "      <td>NaN</td>\n",
       "      <td>NaN</td>\n",
       "    </tr>\n",
       "    <tr>\n",
       "      <th>102</th>\n",
       "      <td>NaN</td>\n",
       "      <td>NaN</td>\n",
       "      <td>NaN</td>\n",
       "      <td>NaN</td>\n",
       "      <td>NaN</td>\n",
       "      <td>NaN</td>\n",
       "      <td>NaN</td>\n",
       "    </tr>\n",
       "    <tr>\n",
       "      <th>103</th>\n",
       "      <td>NaN</td>\n",
       "      <td>NaN</td>\n",
       "      <td>NaN</td>\n",
       "      <td>NaN</td>\n",
       "      <td>NaN</td>\n",
       "      <td>NaN</td>\n",
       "      <td>NaN</td>\n",
       "    </tr>\n",
       "    <tr>\n",
       "      <th>104</th>\n",
       "      <td>NaN</td>\n",
       "      <td>NaN</td>\n",
       "      <td>NaN</td>\n",
       "      <td>NaN</td>\n",
       "      <td>NaN</td>\n",
       "      <td>NaN</td>\n",
       "      <td>NaN</td>\n",
       "    </tr>\n",
       "    <tr>\n",
       "      <th>105</th>\n",
       "      <td>NaN</td>\n",
       "      <td>NaN</td>\n",
       "      <td>NaN</td>\n",
       "      <td>NaN</td>\n",
       "      <td>NaN</td>\n",
       "      <td>NaN</td>\n",
       "      <td>NaN</td>\n",
       "    </tr>\n",
       "    <tr>\n",
       "      <th>106</th>\n",
       "      <td>NaN</td>\n",
       "      <td>NaN</td>\n",
       "      <td>NaN</td>\n",
       "      <td>NaN</td>\n",
       "      <td>NaN</td>\n",
       "      <td>NaN</td>\n",
       "      <td>NaN</td>\n",
       "    </tr>\n",
       "    <tr>\n",
       "      <th>107</th>\n",
       "      <td>NaN</td>\n",
       "      <td>NaN</td>\n",
       "      <td>NaN</td>\n",
       "      <td>NaN</td>\n",
       "      <td>NaN</td>\n",
       "      <td>NaN</td>\n",
       "      <td>NaN</td>\n",
       "    </tr>\n",
       "    <tr>\n",
       "      <th>108</th>\n",
       "      <td>NaN</td>\n",
       "      <td>NaN</td>\n",
       "      <td>:</td>\n",
       "      <td>NaN</td>\n",
       "      <td>NaN</td>\n",
       "      <td>NaN</td>\n",
       "      <td>NaN</td>\n",
       "    </tr>\n",
       "  </tbody>\n",
       "</table>\n",
       "</div>"
      ],
      "text/plain": [
       "     Rain Fall (mm)  Fertilizer Temperatue  Nitrogen (N)  Phosphorus (P)  \\\n",
       "99              NaN         NaN        NaN           NaN             NaN   \n",
       "100             NaN         NaN        NaN           NaN             NaN   \n",
       "101             NaN         NaN        NaN           NaN             NaN   \n",
       "102             NaN         NaN        NaN           NaN             NaN   \n",
       "103             NaN         NaN        NaN           NaN             NaN   \n",
       "104             NaN         NaN        NaN           NaN             NaN   \n",
       "105             NaN         NaN        NaN           NaN             NaN   \n",
       "106             NaN         NaN        NaN           NaN             NaN   \n",
       "107             NaN         NaN        NaN           NaN             NaN   \n",
       "108             NaN         NaN          :           NaN             NaN   \n",
       "\n",
       "     Potassium (K)  Yeild (Q/acre)  \n",
       "99             NaN             NaN  \n",
       "100            NaN             NaN  \n",
       "101            NaN             NaN  \n",
       "102            NaN             NaN  \n",
       "103            NaN             NaN  \n",
       "104            NaN             NaN  \n",
       "105            NaN             NaN  \n",
       "106            NaN             NaN  \n",
       "107            NaN             NaN  \n",
       "108            NaN             NaN  "
      ]
     },
     "execution_count": 6,
     "metadata": {},
     "output_type": "execute_result"
    }
   ],
   "source": [
    "missing_yield_rows = df[df['Yeild (Q/acre)'].isnull()]\n",
    "missing_yield_rows"
   ]
  },
  {
   "cell_type": "code",
   "execution_count": 7,
   "id": "c9dd3b24-b25f-45f3-ad9b-5bd30ed0fc29",
   "metadata": {},
   "outputs": [
    {
     "data": {
      "text/plain": [
       "10"
      ]
     },
     "execution_count": 7,
     "metadata": {},
     "output_type": "execute_result"
    }
   ],
   "source": [
    "df['Yeild (Q/acre)'].isnull().sum()"
   ]
  },
  {
   "cell_type": "code",
   "execution_count": 8,
   "id": "0539ad24-9c66-4f39-b781-d5595eb4a889",
   "metadata": {},
   "outputs": [
    {
     "data": {
      "text/plain": [
       "(109, 7)"
      ]
     },
     "execution_count": 8,
     "metadata": {},
     "output_type": "execute_result"
    }
   ],
   "source": [
    "df.shape"
   ]
  },
  {
   "cell_type": "code",
   "execution_count": 9,
   "id": "62cd34ed-c072-4d86-80af-8f0cf5010304",
   "metadata": {},
   "outputs": [],
   "source": [
    "# dropping the missing values in the dependent feature\n",
    "df = df.dropna(subset=['Yeild (Q/acre)'])"
   ]
  },
  {
   "cell_type": "code",
   "execution_count": 10,
   "id": "a936fadf-29f1-4660-9f9f-bdbe8c44280b",
   "metadata": {},
   "outputs": [
    {
     "data": {
      "text/plain": [
       "0"
      ]
     },
     "execution_count": 10,
     "metadata": {},
     "output_type": "execute_result"
    }
   ],
   "source": [
    "df['Yeild (Q/acre)'].isnull().sum()"
   ]
  },
  {
   "cell_type": "code",
   "execution_count": 11,
   "id": "ac904814-86d8-49fb-b709-e047dcc31ce1",
   "metadata": {},
   "outputs": [
    {
     "data": {
      "text/plain": [
       "Rain Fall (mm)    0\n",
       "Fertilizer        0\n",
       "Temperatue        0\n",
       "Nitrogen (N)      0\n",
       "Phosphorus (P)    0\n",
       "Potassium (K)     0\n",
       "Yeild (Q/acre)    0\n",
       "dtype: int64"
      ]
     },
     "execution_count": 11,
     "metadata": {},
     "output_type": "execute_result"
    }
   ],
   "source": [
    "df.isna().sum()"
   ]
  },
  {
   "cell_type": "code",
   "execution_count": 12,
   "id": "962fd64b-9849-452f-9227-81080eb5a245",
   "metadata": {},
   "outputs": [
    {
     "data": {
      "text/plain": [
       "(99, 7)"
      ]
     },
     "execution_count": 12,
     "metadata": {},
     "output_type": "execute_result"
    }
   ],
   "source": [
    "df.shape"
   ]
  },
  {
   "cell_type": "code",
   "execution_count": 13,
   "id": "3f85f587-a455-48a2-8f58-6862d7cf8db3",
   "metadata": {},
   "outputs": [
    {
     "data": {
      "text/html": [
       "<div>\n",
       "<style scoped>\n",
       "    .dataframe tbody tr th:only-of-type {\n",
       "        vertical-align: middle;\n",
       "    }\n",
       "\n",
       "    .dataframe tbody tr th {\n",
       "        vertical-align: top;\n",
       "    }\n",
       "\n",
       "    .dataframe thead th {\n",
       "        text-align: right;\n",
       "    }\n",
       "</style>\n",
       "<table border=\"1\" class=\"dataframe\">\n",
       "  <thead>\n",
       "    <tr style=\"text-align: right;\">\n",
       "      <th></th>\n",
       "      <th>Rain Fall (mm)</th>\n",
       "      <th>Fertilizer</th>\n",
       "      <th>Temperatue</th>\n",
       "      <th>Nitrogen (N)</th>\n",
       "      <th>Phosphorus (P)</th>\n",
       "      <th>Potassium (K)</th>\n",
       "      <th>Yeild (Q/acre)</th>\n",
       "    </tr>\n",
       "  </thead>\n",
       "  <tbody>\n",
       "    <tr>\n",
       "      <th>Rain Fall (mm)</th>\n",
       "      <td>1.000000</td>\n",
       "      <td>0.890318</td>\n",
       "      <td>-0.967291</td>\n",
       "      <td>0.875808</td>\n",
       "      <td>0.776814</td>\n",
       "      <td>0.810893</td>\n",
       "      <td>0.886721</td>\n",
       "    </tr>\n",
       "    <tr>\n",
       "      <th>Fertilizer</th>\n",
       "      <td>0.890318</td>\n",
       "      <td>1.000000</td>\n",
       "      <td>-0.864742</td>\n",
       "      <td>0.909786</td>\n",
       "      <td>0.816710</td>\n",
       "      <td>0.762152</td>\n",
       "      <td>0.833823</td>\n",
       "    </tr>\n",
       "    <tr>\n",
       "      <th>Temperatue</th>\n",
       "      <td>-0.967291</td>\n",
       "      <td>-0.864742</td>\n",
       "      <td>1.000000</td>\n",
       "      <td>-0.846513</td>\n",
       "      <td>-0.780556</td>\n",
       "      <td>-0.779570</td>\n",
       "      <td>-0.892425</td>\n",
       "    </tr>\n",
       "    <tr>\n",
       "      <th>Nitrogen (N)</th>\n",
       "      <td>0.875808</td>\n",
       "      <td>0.909786</td>\n",
       "      <td>-0.846513</td>\n",
       "      <td>1.000000</td>\n",
       "      <td>0.778651</td>\n",
       "      <td>0.808640</td>\n",
       "      <td>0.879056</td>\n",
       "    </tr>\n",
       "    <tr>\n",
       "      <th>Phosphorus (P)</th>\n",
       "      <td>0.776814</td>\n",
       "      <td>0.816710</td>\n",
       "      <td>-0.780556</td>\n",
       "      <td>0.778651</td>\n",
       "      <td>1.000000</td>\n",
       "      <td>0.748642</td>\n",
       "      <td>0.800094</td>\n",
       "    </tr>\n",
       "    <tr>\n",
       "      <th>Potassium (K)</th>\n",
       "      <td>0.810893</td>\n",
       "      <td>0.762152</td>\n",
       "      <td>-0.779570</td>\n",
       "      <td>0.808640</td>\n",
       "      <td>0.748642</td>\n",
       "      <td>1.000000</td>\n",
       "      <td>0.856010</td>\n",
       "    </tr>\n",
       "    <tr>\n",
       "      <th>Yeild (Q/acre)</th>\n",
       "      <td>0.886721</td>\n",
       "      <td>0.833823</td>\n",
       "      <td>-0.892425</td>\n",
       "      <td>0.879056</td>\n",
       "      <td>0.800094</td>\n",
       "      <td>0.856010</td>\n",
       "      <td>1.000000</td>\n",
       "    </tr>\n",
       "  </tbody>\n",
       "</table>\n",
       "</div>"
      ],
      "text/plain": [
       "                Rain Fall (mm)  Fertilizer  Temperatue  Nitrogen (N)  \\\n",
       "Rain Fall (mm)        1.000000    0.890318   -0.967291      0.875808   \n",
       "Fertilizer            0.890318    1.000000   -0.864742      0.909786   \n",
       "Temperatue           -0.967291   -0.864742    1.000000     -0.846513   \n",
       "Nitrogen (N)          0.875808    0.909786   -0.846513      1.000000   \n",
       "Phosphorus (P)        0.776814    0.816710   -0.780556      0.778651   \n",
       "Potassium (K)         0.810893    0.762152   -0.779570      0.808640   \n",
       "Yeild (Q/acre)        0.886721    0.833823   -0.892425      0.879056   \n",
       "\n",
       "                Phosphorus (P)  Potassium (K)  Yeild (Q/acre)  \n",
       "Rain Fall (mm)        0.776814       0.810893        0.886721  \n",
       "Fertilizer            0.816710       0.762152        0.833823  \n",
       "Temperatue           -0.780556      -0.779570       -0.892425  \n",
       "Nitrogen (N)          0.778651       0.808640        0.879056  \n",
       "Phosphorus (P)        1.000000       0.748642        0.800094  \n",
       "Potassium (K)         0.748642       1.000000        0.856010  \n",
       "Yeild (Q/acre)        0.800094       0.856010        1.000000  "
      ]
     },
     "execution_count": 13,
     "metadata": {},
     "output_type": "execute_result"
    }
   ],
   "source": [
    "df.corr()"
   ]
  },
  {
   "cell_type": "code",
   "execution_count": 14,
   "id": "f7b80e15",
   "metadata": {},
   "outputs": [
    {
     "name": "stdout",
     "output_type": "stream",
     "text": [
      "Yeild (Q/acre)    1.000000\n",
      "Rain Fall (mm)    0.886721\n",
      "Nitrogen (N)      0.879056\n",
      "Potassium (K)     0.856010\n",
      "Fertilizer        0.833823\n",
      "Phosphorus (P)    0.800094\n",
      "Temperatue       -0.892425\n",
      "Name: Yeild (Q/acre), dtype: float64\n"
     ]
    }
   ],
   "source": [
    "import pandas as pd\n",
    "\n",
    "# Assuming df is your dataframe and 'Yield (Q/acre)' is the target variable\n",
    "correlation_matrix = df.corr()\n",
    "print(correlation_matrix['Yeild (Q/acre)'].sort_values(ascending=False))\n"
   ]
  },
  {
   "cell_type": "code",
   "execution_count": 15,
   "id": "4f251e3a",
   "metadata": {},
   "outputs": [
    {
     "data": {
      "image/png": "[encoded data removed]",
      "text/plain": [
       "<Figure size 640x480 with 1 Axes>"
      ]
     },
     "metadata": {},
     "output_type": "display_data"
    }
   ],
   "source": [
    "import matplotlib.pyplot as plt\n",
    "import seaborn as sns\n",
    "\n",
    "sns.scatterplot(x='Rain Fall (mm)', y='Yeild (Q/acre)', data=df)\n",
    "plt.title('Rain Fall vs Yield')\n",
    "plt.show()\n"
   ]
  },
  {
   "cell_type": "code",
   "execution_count": 16,
   "id": "74d11940",
   "metadata": {},
   "outputs": [
    {
     "data": {
      "image/png": "[encoded data removed]",
      "text/plain": [
       "<Figure size 640x480 with 1 Axes>"
      ]
     },
     "metadata": {},
     "output_type": "display_data"
    }
   ],
   "source": [
    "sns.scatterplot(x='Nitrogen (N)', y='Yeild (Q/acre)', data=df)\n",
    "plt.title('Rain Fall vs Yield')\n",
    "plt.show()\n"
   ]
  },
  {
   "cell_type": "code",
   "execution_count": 17,
   "id": "983f5af4",
   "metadata": {},
   "outputs": [
    {
     "data": {
      "image/png": "[encoded data removed]",
      "text/plain": [
       "<Figure size 640x480 with 1 Axes>"
      ]
     },
     "metadata": {},
     "output_type": "display_data"
    }
   ],
   "source": [
    "sns.scatterplot(x='Potassium (K)', y='Yeild (Q/acre)', data=df)\n",
    "plt.title('Rain Fall vs Yield')\n",
    "plt.show()\n"
   ]
  },
  {
   "cell_type": "code",
   "execution_count": 18,
   "id": "5fd8f44b",
   "metadata": {},
   "outputs": [
    {
     "data": {
      "image/png": "[encoded data removed]",
      "text/plain": [
       "<Figure size 640x480 with 1 Axes>"
      ]
     },
     "metadata": {},
     "output_type": "display_data"
    }
   ],
   "source": [
    "sns.scatterplot(x='Fertilizer', y='Yeild (Q/acre)', data=df)\n",
    "plt.title('Rain Fall vs Yield')\n",
    "plt.show()\n"
   ]
  },
  {
   "cell_type": "code",
   "execution_count": 19,
   "id": "7dc0d468",
   "metadata": {},
   "outputs": [
    {
     "data": {
      "image/png": "[encoded data removed]",
      "text/plain": [
       "<Figure size 640x480 with 1 Axes>"
      ]
     },
     "metadata": {},
     "output_type": "display_data"
    }
   ],
   "source": [
    "sns.scatterplot(x='Phosphorus (P)', y='Yeild (Q/acre)', data=df)\n",
    "plt.title('Rain Fall vs Yield')\n",
    "plt.show()\n"
   ]
  },
  {
   "cell_type": "code",
   "execution_count": 20,
   "id": "1e0b82c5",
   "metadata": {},
   "outputs": [
    {
     "data": {
      "image/png": "[encoded data removed]",
      "text/plain": [
       "<Figure size 1000x800 with 2 Axes>"
      ]
     },
     "metadata": {},
     "output_type": "display_data"
    }
   ],
   "source": [
    "plt.figure(figsize=(10, 8))\n",
    "sns.heatmap(correlation_matrix, annot=True, cmap='coolwarm')\n",
    "plt.title('Correlation Matrix')\n",
    "plt.show()"
   ]
  },
  {
   "cell_type": "code",
   "execution_count": null,
   "id": "a26dc5e1",
   "metadata": {},
   "outputs": [],
   "source": []
  },
  {
   "cell_type": "code",
   "execution_count": null,
   "id": "4c649621",
   "metadata": {},
   "outputs": [],
   "source": []
  },
  {
   "cell_type": "markdown",
   "id": "852be7cc",
   "metadata": {},
   "source": [
    "# Visualization"
   ]
  },
  {
   "cell_type": "code",
   "execution_count": 17,
   "id": "ac232f8a-f276-4273-a8ce-584e242a6d2e",
   "metadata": {},
   "outputs": [
    {
     "data": {
      "image/png": "[encoded data removed]",
      "text/plain": [
       "<Figure size 1400x1000 with 6 Axes>"
      ]
     },
     "metadata": {},
     "output_type": "display_data"
    }
   ],
   "source": [
    "import matplotlib.pyplot as plt\n",
    "# Histograms for numerical features\n",
    "df.hist(bins=20, figsize=(14, 10))\n",
    "plt.show()"
   ]
  },
  {
   "cell_type": "code",
   "execution_count": 25,
   "id": "57eccf1e",
   "metadata": {},
   "outputs": [],
   "source": [
    "from scipy.stats import boxcox\n",
    "df['Yeild (Q/acre)'], _ = boxcox(df['Yeild (Q/acre)'] + 1)  # +1 to avoid issues with 0 values\n"
   ]
  },
  {
   "cell_type": "code",
   "execution_count": 26,
   "id": "6f4d3067",
   "metadata": {},
   "outputs": [
    {
     "data": {
      "image/png": "[encoded data removed]",
      "text/plain": [
       "<Figure size 1400x1000 with 1 Axes>"
      ]
     },
     "metadata": {},
     "output_type": "display_data"
    }
   ],
   "source": [
    "df['Yeild (Q/acre)'].hist(bins=20, figsize=(14, 10))\n",
    "plt.show()"
   ]
  },
  {
   "cell_type": "code",
   "execution_count": 21,
   "id": "082d8379",
   "metadata": {},
   "outputs": [
    {
     "data": {
      "image/png": "[encoded data removed]",
      "text/plain": [
       "<Figure size 1400x1000 with 1 Axes>"
      ]
     },
     "metadata": {},
     "output_type": "display_data"
    }
   ],
   "source": [
    "import seaborn as sns\n",
    "sns.set(style=\"whitegrid\")\n",
    "# Box plots for numerical features\n",
    "plt.figure(figsize=(14, 10))\n",
    "sns.boxplot(data=df['Nitrogen (N)'])\n",
    "plt.xticks(rotation=90)\n",
    "plt.show()"
   ]
  },
  {
   "cell_type": "markdown",
   "id": "08e14384",
   "metadata": {},
   "source": [
    "# Feature Engineering"
   ]
  },
  {
   "cell_type": "code",
   "execution_count": 22,
   "id": "5609eae2",
   "metadata": {},
   "outputs": [],
   "source": [
    "df['Rainfall_Fertilizer'] = df['Rain Fall (mm)'] * df['Fertilizer']\n",
    "df['Temperature_Nitrogen'] = df['Temperatue'] * df['Nitrogen (N)']\n"
   ]
  },
  {
   "cell_type": "markdown",
   "id": "302eca37",
   "metadata": {},
   "source": [
    "# Log Transformation"
   ]
  },
  {
   "cell_type": "code",
   "execution_count": 23,
   "id": "8bf40e0a",
   "metadata": {},
   "outputs": [],
   "source": [
    "import numpy as np\n",
    "df['log_Rain_Fall'] = np.log(df['Rain Fall (mm)'] + 1)\n"
   ]
  },
  {
   "cell_type": "code",
   "execution_count": 24,
   "id": "27250967",
   "metadata": {},
   "outputs": [
    {
     "data": {
      "text/html": [
       "<div>\n",
       "<style scoped>\n",
       "    .dataframe tbody tr th:only-of-type {\n",
       "        vertical-align: middle;\n",
       "    }\n",
       "\n",
       "    .dataframe tbody tr th {\n",
       "        vertical-align: top;\n",
       "    }\n",
       "\n",
       "    .dataframe thead th {\n",
       "        text-align: right;\n",
       "    }\n",
       "</style>\n",
       "<table border=\"1\" class=\"dataframe\">\n",
       "  <thead>\n",
       "    <tr style=\"text-align: right;\">\n",
       "      <th></th>\n",
       "      <th>Rain Fall (mm)</th>\n",
       "      <th>Fertilizer</th>\n",
       "      <th>Temperatue</th>\n",
       "      <th>Nitrogen (N)</th>\n",
       "      <th>Phosphorus (P)</th>\n",
       "      <th>Potassium (K)</th>\n",
       "      <th>Yeild (Q/acre)</th>\n",
       "      <th>Rainfall_Fertilizer</th>\n",
       "      <th>Temperature_Nitrogen</th>\n",
       "      <th>log_Rain_Fall</th>\n",
       "    </tr>\n",
       "  </thead>\n",
       "  <tbody>\n",
       "    <tr>\n",
       "      <th>0</th>\n",
       "      <td>1230.0</td>\n",
       "      <td>80.0</td>\n",
       "      <td>28</td>\n",
       "      <td>80.0</td>\n",
       "      <td>24.0</td>\n",
       "      <td>20.0</td>\n",
       "      <td>12.0</td>\n",
       "      <td>98400.0</td>\n",
       "      <td>2240.0</td>\n",
       "      <td>7.115582</td>\n",
       "    </tr>\n",
       "    <tr>\n",
       "      <th>1</th>\n",
       "      <td>480.0</td>\n",
       "      <td>60.0</td>\n",
       "      <td>36</td>\n",
       "      <td>70.0</td>\n",
       "      <td>20.0</td>\n",
       "      <td>18.0</td>\n",
       "      <td>8.0</td>\n",
       "      <td>28800.0</td>\n",
       "      <td>2520.0</td>\n",
       "      <td>6.175867</td>\n",
       "    </tr>\n",
       "    <tr>\n",
       "      <th>2</th>\n",
       "      <td>1250.0</td>\n",
       "      <td>75.0</td>\n",
       "      <td>29</td>\n",
       "      <td>78.0</td>\n",
       "      <td>22.0</td>\n",
       "      <td>19.0</td>\n",
       "      <td>11.0</td>\n",
       "      <td>93750.0</td>\n",
       "      <td>2262.0</td>\n",
       "      <td>7.131699</td>\n",
       "    </tr>\n",
       "    <tr>\n",
       "      <th>3</th>\n",
       "      <td>450.0</td>\n",
       "      <td>65.0</td>\n",
       "      <td>35</td>\n",
       "      <td>70.0</td>\n",
       "      <td>19.0</td>\n",
       "      <td>18.0</td>\n",
       "      <td>9.0</td>\n",
       "      <td>29250.0</td>\n",
       "      <td>2450.0</td>\n",
       "      <td>6.111467</td>\n",
       "    </tr>\n",
       "    <tr>\n",
       "      <th>4</th>\n",
       "      <td>1200.0</td>\n",
       "      <td>80.0</td>\n",
       "      <td>27</td>\n",
       "      <td>79.0</td>\n",
       "      <td>22.0</td>\n",
       "      <td>19.0</td>\n",
       "      <td>11.0</td>\n",
       "      <td>96000.0</td>\n",
       "      <td>2133.0</td>\n",
       "      <td>7.090910</td>\n",
       "    </tr>\n",
       "  </tbody>\n",
       "</table>\n",
       "</div>"
      ],
      "text/plain": [
       "   Rain Fall (mm)  Fertilizer Temperatue  Nitrogen (N)  Phosphorus (P)  \\\n",
       "0          1230.0        80.0         28          80.0            24.0   \n",
       "1           480.0        60.0         36          70.0            20.0   \n",
       "2          1250.0        75.0         29          78.0            22.0   \n",
       "3           450.0        65.0         35          70.0            19.0   \n",
       "4          1200.0        80.0         27          79.0            22.0   \n",
       "\n",
       "   Potassium (K)  Yeild (Q/acre)  Rainfall_Fertilizer Temperature_Nitrogen  \\\n",
       "0           20.0            12.0              98400.0               2240.0   \n",
       "1           18.0             8.0              28800.0               2520.0   \n",
       "2           19.0            11.0              93750.0               2262.0   \n",
       "3           18.0             9.0              29250.0               2450.0   \n",
       "4           19.0            11.0              96000.0               2133.0   \n",
       "\n",
       "   log_Rain_Fall  \n",
       "0       7.115582  \n",
       "1       6.175867  \n",
       "2       7.131699  \n",
       "3       6.111467  \n",
       "4       7.090910  "
      ]
     },
     "execution_count": 24,
     "metadata": {},
     "output_type": "execute_result"
    }
   ],
   "source": [
    "df.head()"
   ]
  },
  {
   "cell_type": "markdown",
   "id": "db94f17d",
   "metadata": {},
   "source": [
    "# Dependent and independent variables"
   ]
  },
  {
   "cell_type": "code",
   "execution_count": 25,
   "id": "cc39f39d",
   "metadata": {},
   "outputs": [
    {
     "data": {
      "text/html": [
       "<div>\n",
       "<style scoped>\n",
       "    .dataframe tbody tr th:only-of-type {\n",
       "        vertical-align: middle;\n",
       "    }\n",
       "\n",
       "    .dataframe tbody tr th {\n",
       "        vertical-align: top;\n",
       "    }\n",
       "\n",
       "    .dataframe thead th {\n",
       "        text-align: right;\n",
       "    }\n",
       "</style>\n",
       "<table border=\"1\" class=\"dataframe\">\n",
       "  <thead>\n",
       "    <tr style=\"text-align: right;\">\n",
       "      <th></th>\n",
       "      <th>Rain Fall (mm)</th>\n",
       "      <th>Fertilizer</th>\n",
       "      <th>Temperatue</th>\n",
       "      <th>Nitrogen (N)</th>\n",
       "      <th>Phosphorus (P)</th>\n",
       "      <th>Potassium (K)</th>\n",
       "      <th>Rainfall_Fertilizer</th>\n",
       "      <th>Temperature_Nitrogen</th>\n",
       "      <th>log_Rain_Fall</th>\n",
       "    </tr>\n",
       "  </thead>\n",
       "  <tbody>\n",
       "    <tr>\n",
       "      <th>0</th>\n",
       "      <td>1230.0</td>\n",
       "      <td>80.0</td>\n",
       "      <td>28</td>\n",
       "      <td>80.0</td>\n",
       "      <td>24.0</td>\n",
       "      <td>20.0</td>\n",
       "      <td>98400.0</td>\n",
       "      <td>2240.0</td>\n",
       "      <td>7.115582</td>\n",
       "    </tr>\n",
       "    <tr>\n",
       "      <th>1</th>\n",
       "      <td>480.0</td>\n",
       "      <td>60.0</td>\n",
       "      <td>36</td>\n",
       "      <td>70.0</td>\n",
       "      <td>20.0</td>\n",
       "      <td>18.0</td>\n",
       "      <td>28800.0</td>\n",
       "      <td>2520.0</td>\n",
       "      <td>6.175867</td>\n",
       "    </tr>\n",
       "    <tr>\n",
       "      <th>2</th>\n",
       "      <td>1250.0</td>\n",
       "      <td>75.0</td>\n",
       "      <td>29</td>\n",
       "      <td>78.0</td>\n",
       "      <td>22.0</td>\n",
       "      <td>19.0</td>\n",
       "      <td>93750.0</td>\n",
       "      <td>2262.0</td>\n",
       "      <td>7.131699</td>\n",
       "    </tr>\n",
       "    <tr>\n",
       "      <th>3</th>\n",
       "      <td>450.0</td>\n",
       "      <td>65.0</td>\n",
       "      <td>35</td>\n",
       "      <td>70.0</td>\n",
       "      <td>19.0</td>\n",
       "      <td>18.0</td>\n",
       "      <td>29250.0</td>\n",
       "      <td>2450.0</td>\n",
       "      <td>6.111467</td>\n",
       "    </tr>\n",
       "    <tr>\n",
       "      <th>4</th>\n",
       "      <td>1200.0</td>\n",
       "      <td>80.0</td>\n",
       "      <td>27</td>\n",
       "      <td>79.0</td>\n",
       "      <td>22.0</td>\n",
       "      <td>19.0</td>\n",
       "      <td>96000.0</td>\n",
       "      <td>2133.0</td>\n",
       "      <td>7.090910</td>\n",
       "    </tr>\n",
       "    <tr>\n",
       "      <th>...</th>\n",
       "      <td>...</td>\n",
       "      <td>...</td>\n",
       "      <td>...</td>\n",
       "      <td>...</td>\n",
       "      <td>...</td>\n",
       "      <td>...</td>\n",
       "      <td>...</td>\n",
       "      <td>...</td>\n",
       "      <td>...</td>\n",
       "    </tr>\n",
       "    <tr>\n",
       "      <th>94</th>\n",
       "      <td>1250.0</td>\n",
       "      <td>77.0</td>\n",
       "      <td>28</td>\n",
       "      <td>78.0</td>\n",
       "      <td>23.0</td>\n",
       "      <td>20.0</td>\n",
       "      <td>96250.0</td>\n",
       "      <td>2184.0</td>\n",
       "      <td>7.131699</td>\n",
       "    </tr>\n",
       "    <tr>\n",
       "      <th>95</th>\n",
       "      <td>425.0</td>\n",
       "      <td>60.0</td>\n",
       "      <td>39</td>\n",
       "      <td>65.0</td>\n",
       "      <td>19.0</td>\n",
       "      <td>17.0</td>\n",
       "      <td>25500.0</td>\n",
       "      <td>2535.0</td>\n",
       "      <td>6.054439</td>\n",
       "    </tr>\n",
       "    <tr>\n",
       "      <th>96</th>\n",
       "      <td>1220.0</td>\n",
       "      <td>79.0</td>\n",
       "      <td>28</td>\n",
       "      <td>77.0</td>\n",
       "      <td>23.0</td>\n",
       "      <td>21.0</td>\n",
       "      <td>96380.0</td>\n",
       "      <td>2156.0</td>\n",
       "      <td>7.107425</td>\n",
       "    </tr>\n",
       "    <tr>\n",
       "      <th>97</th>\n",
       "      <td>480.0</td>\n",
       "      <td>65.0</td>\n",
       "      <td>36</td>\n",
       "      <td>68.0</td>\n",
       "      <td>21.0</td>\n",
       "      <td>16.0</td>\n",
       "      <td>31200.0</td>\n",
       "      <td>2448.0</td>\n",
       "      <td>6.175867</td>\n",
       "    </tr>\n",
       "    <tr>\n",
       "      <th>98</th>\n",
       "      <td>1230.0</td>\n",
       "      <td>80.0</td>\n",
       "      <td>28</td>\n",
       "      <td>80.0</td>\n",
       "      <td>24.0</td>\n",
       "      <td>20.0</td>\n",
       "      <td>98400.0</td>\n",
       "      <td>2240.0</td>\n",
       "      <td>7.115582</td>\n",
       "    </tr>\n",
       "  </tbody>\n",
       "</table>\n",
       "<p>99 rows × 9 columns</p>\n",
       "</div>"
      ],
      "text/plain": [
       "    Rain Fall (mm)  Fertilizer Temperatue  Nitrogen (N)  Phosphorus (P)  \\\n",
       "0           1230.0        80.0         28          80.0            24.0   \n",
       "1            480.0        60.0         36          70.0            20.0   \n",
       "2           1250.0        75.0         29          78.0            22.0   \n",
       "3            450.0        65.0         35          70.0            19.0   \n",
       "4           1200.0        80.0         27          79.0            22.0   \n",
       "..             ...         ...        ...           ...             ...   \n",
       "94          1250.0        77.0         28          78.0            23.0   \n",
       "95           425.0        60.0         39          65.0            19.0   \n",
       "96          1220.0        79.0         28          77.0            23.0   \n",
       "97           480.0        65.0         36          68.0            21.0   \n",
       "98          1230.0        80.0         28          80.0            24.0   \n",
       "\n",
       "    Potassium (K)  Rainfall_Fertilizer Temperature_Nitrogen  log_Rain_Fall  \n",
       "0            20.0              98400.0               2240.0       7.115582  \n",
       "1            18.0              28800.0               2520.0       6.175867  \n",
       "2            19.0              93750.0               2262.0       7.131699  \n",
       "3            18.0              29250.0               2450.0       6.111467  \n",
       "4            19.0              96000.0               2133.0       7.090910  \n",
       "..            ...                  ...                  ...            ...  \n",
       "94           20.0              96250.0               2184.0       7.131699  \n",
       "95           17.0              25500.0               2535.0       6.054439  \n",
       "96           21.0              96380.0               2156.0       7.107425  \n",
       "97           16.0              31200.0               2448.0       6.175867  \n",
       "98           20.0              98400.0               2240.0       7.115582  \n",
       "\n",
       "[99 rows x 9 columns]"
      ]
     },
     "execution_count": 25,
     "metadata": {},
     "output_type": "execute_result"
    }
   ],
   "source": [
    "X = df.drop('Yeild (Q/acre)', axis=1)\n",
    "X"
   ]
  },
  {
   "cell_type": "code",
   "execution_count": 26,
   "id": "906cd272",
   "metadata": {},
   "outputs": [
    {
     "data": {
      "text/plain": [
       "0     12.0\n",
       "1      8.0\n",
       "2     11.0\n",
       "3      9.0\n",
       "4     11.0\n",
       "      ... \n",
       "94     9.0\n",
       "95     6.5\n",
       "96    10.5\n",
       "97     7.0\n",
       "98    12.0\n",
       "Name: Yeild (Q/acre), Length: 99, dtype: float64"
      ]
     },
     "execution_count": 26,
     "metadata": {},
     "output_type": "execute_result"
    }
   ],
   "source": [
    "y = df['Yeild (Q/acre)']\n",
    "y"
   ]
  },
  {
   "cell_type": "markdown",
   "id": "f90ee572",
   "metadata": {},
   "source": [
    "# Standardization"
   ]
  },
  {
   "cell_type": "code",
   "execution_count": 27,
   "id": "27615be5",
   "metadata": {},
   "outputs": [],
   "source": [
    "from sklearn.preprocessing import StandardScaler\n",
    "num_features = X.select_dtypes(exclude=\"object\").columns\n",
    "from sklearn.compose import ColumnTransformer\n",
    "numeric_transformer = StandardScaler()\n",
    "preprocessor = ColumnTransformer(\n",
    "    [\n",
    "         (\"StandardScaler\", numeric_transformer, num_features),        \n",
    "    ]\n",
    ")"
   ]
  },
  {
   "cell_type": "code",
   "execution_count": 28,
   "id": "97663e19",
   "metadata": {},
   "outputs": [],
   "source": [
    "X = preprocessor.fit_transform(X)"
   ]
  },
  {
   "cell_type": "code",
   "execution_count": 29,
   "id": "baac13b0",
   "metadata": {},
   "outputs": [
    {
     "data": {
      "text/plain": [
       "(99, 7)"
      ]
     },
     "execution_count": 29,
     "metadata": {},
     "output_type": "execute_result"
    }
   ],
   "source": [
    "X.shape"
   ]
  },
  {
   "cell_type": "code",
   "execution_count": 30,
   "id": "b6552959",
   "metadata": {},
   "outputs": [
    {
     "data": {
      "text/plain": [
       "(99,)"
      ]
     },
     "execution_count": 30,
     "metadata": {},
     "output_type": "execute_result"
    }
   ],
   "source": [
    "y.shape"
   ]
  },
  {
   "cell_type": "code",
   "execution_count": null,
   "id": "dbb5b2cf",
   "metadata": {},
   "outputs": [],
   "source": []
  },
  {
   "cell_type": "markdown",
   "id": "ac36b0a1",
   "metadata": {},
   "source": [
    "# Train Test Split"
   ]
  },
  {
   "cell_type": "code",
   "execution_count": 31,
   "id": "b71530aa",
   "metadata": {},
   "outputs": [
    {
     "data": {
      "text/plain": [
       "((79, 7), (20, 7))"
      ]
     },
     "execution_count": 31,
     "metadata": {},
     "output_type": "execute_result"
    }
   ],
   "source": [
    "from sklearn.model_selection import train_test_split\n",
    "X_train, X_test, y_train, y_test = train_test_split(X,y,test_size=0.2,random_state=42)\n",
    "X_train.shape, X_test.shape"
   ]
  },
  {
   "cell_type": "markdown",
   "id": "da4cc577",
   "metadata": {},
   "source": [
    "# Model Selection and Training"
   ]
  },
  {
   "cell_type": "code",
   "execution_count": 32,
   "id": "ddef2e74",
   "metadata": {},
   "outputs": [],
   "source": [
    "from sklearn.metrics import mean_squared_error, r2_score\n",
    "from sklearn.neighbors import KNeighborsRegressor\n",
    "from sklearn.tree import DecisionTreeRegressor\n",
    "from sklearn.ensemble import RandomForestRegressor,AdaBoostRegressor\n",
    "from sklearn.svm import SVR\n",
    "from sklearn.linear_model import LinearRegression, Ridge,Lasso\n",
    "from sklearn.metrics import r2_score, mean_absolute_error, mean_squared_error\n",
    "from sklearn.model_selection import RandomizedSearchCV\n",
    "from xgboost import XGBRegressor\n",
    "import warnings"
   ]
  },
  {
   "cell_type": "markdown",
   "id": "cd23c13d",
   "metadata": {},
   "source": [
    "#### Create an Evaluate Function to give all metrics after model Training"
   ]
  },
  {
   "cell_type": "code",
   "execution_count": 33,
   "id": "685f57d0",
   "metadata": {},
   "outputs": [],
   "source": [
    "def evaluate_model(true, predicted):\n",
    "    mae = mean_absolute_error(true, predicted)\n",
    "    mse = mean_squared_error(true, predicted)\n",
    "    rmse = np.sqrt(mean_squared_error(true, predicted))\n",
    "    r2_square = r2_score(true, predicted)\n",
    "    return mae, rmse, r2_square"
   ]
  },
  {
   "cell_type": "code",
   "execution_count": 34,
   "id": "90ea0fa7",
   "metadata": {},
   "outputs": [
    {
     "name": "stdout",
     "output_type": "stream",
     "text": [
      "Linear Regression\n",
      "Model performance for Training set\n",
      "- Root Mean Squared Error: 0.6956\n",
      "- Mean Absolute Error: 0.5714\n",
      "- R2 Score: 0.8626\n",
      "----------------------------------\n",
      "Model performance for Test set\n",
      "- Root Mean Squared Error: 0.7042\n",
      "- Mean Absolute Error: 0.5527\n",
      "- R2 Score: 0.8941\n",
      "===================================\n",
      "\n",
      "\n",
      "Lasso\n",
      "Model performance for Training set\n",
      "- Root Mean Squared Error: 1.3092\n",
      "- Mean Absolute Error: 1.1071\n",
      "- R2 Score: 0.5133\n",
      "----------------------------------\n",
      "Model performance for Test set\n",
      "- Root Mean Squared Error: 1.6158\n",
      "- Mean Absolute Error: 1.5367\n",
      "- R2 Score: 0.4424\n",
      "===================================\n",
      "\n",
      "\n",
      "Ridge\n",
      "Model performance for Training set\n",
      "- Root Mean Squared Error: 0.7122\n",
      "- Mean Absolute Error: 0.5748\n",
      "- R2 Score: 0.8560\n",
      "----------------------------------\n",
      "Model performance for Test set\n",
      "- Root Mean Squared Error: 0.6900\n",
      "- Mean Absolute Error: 0.5560\n",
      "- R2 Score: 0.8983\n",
      "===================================\n",
      "\n",
      "\n",
      "K-Neighbors Regressor\n",
      "Model performance for Training set\n",
      "- Root Mean Squared Error: 0.6663\n",
      "- Mean Absolute Error: 0.5278\n",
      "- R2 Score: 0.8739\n",
      "----------------------------------\n",
      "Model performance for Test set\n",
      "- Root Mean Squared Error: 0.6289\n",
      "- Mean Absolute Error: 0.4850\n",
      "- R2 Score: 0.9155\n",
      "===================================\n",
      "\n",
      "\n",
      "Decision Tree\n",
      "Model performance for Training set\n",
      "- Root Mean Squared Error: 0.0796\n",
      "- Mean Absolute Error: 0.0127\n",
      "- R2 Score: 0.9982\n",
      "----------------------------------\n",
      "Model performance for Test set\n",
      "- Root Mean Squared Error: 0.9354\n",
      "- Mean Absolute Error: 0.7500\n",
      "- R2 Score: 0.8131\n",
      "===================================\n",
      "\n",
      "\n",
      "Random Forest Regressor\n",
      "Model performance for Training set\n",
      "- Root Mean Squared Error: 0.2938\n",
      "- Mean Absolute Error: 0.2326\n",
      "- R2 Score: 0.9755\n",
      "----------------------------------\n",
      "Model performance for Test set\n",
      "- Root Mean Squared Error: 0.7749\n",
      "- Mean Absolute Error: 0.6131\n",
      "- R2 Score: 0.8718\n",
      "===================================\n",
      "\n",
      "\n",
      "XGBRegressor\n",
      "Model performance for Training set\n",
      "- Root Mean Squared Error: 0.0796\n",
      "- Mean Absolute Error: 0.0137\n",
      "- R2 Score: 0.9982\n",
      "----------------------------------\n",
      "Model performance for Test set\n",
      "- Root Mean Squared Error: 0.8398\n",
      "- Mean Absolute Error: 0.6455\n",
      "- R2 Score: 0.8494\n",
      "===================================\n",
      "\n",
      "\n",
      "AdaBoost Regressor\n",
      "Model performance for Training set\n",
      "- Root Mean Squared Error: 0.4522\n",
      "- Mean Absolute Error: 0.3838\n",
      "- R2 Score: 0.9419\n",
      "----------------------------------\n",
      "Model performance for Test set\n",
      "- Root Mean Squared Error: 0.8289\n",
      "- Mean Absolute Error: 0.7212\n",
      "- R2 Score: 0.8533\n",
      "===================================\n",
      "\n",
      "\n"
     ]
    }
   ],
   "source": [
    "models = {\n",
    "    \"Linear Regression\": LinearRegression(),\n",
    "    \"Lasso\": Lasso(),\n",
    "    \"Ridge\": Ridge(),\n",
    "    \"K-Neighbors Regressor\": KNeighborsRegressor(),\n",
    "    \"Decision Tree\": DecisionTreeRegressor(),\n",
    "    \"Random Forest Regressor\": RandomForestRegressor(),\n",
    "    \"XGBRegressor\": XGBRegressor(), \n",
    "    \"AdaBoost Regressor\": AdaBoostRegressor()\n",
    "}\n",
    "model_list = []\n",
    "r2_list =[]\n",
    "\n",
    "for i in range(len(list(models))):\n",
    "    model = list(models.values())[i]\n",
    "    model.fit(X_train, y_train) # Train model\n",
    "\n",
    "    # Make predictions\n",
    "    y_train_pred = model.predict(X_train)\n",
    "    y_test_pred = model.predict(X_test)\n",
    "    \n",
    "    # Evaluate Train and Test dataset\n",
    "    model_train_mae , model_train_rmse, model_train_r2 = evaluate_model(y_train, y_train_pred)\n",
    "\n",
    "    model_test_mae , model_test_rmse, model_test_r2 = evaluate_model(y_test, y_test_pred)\n",
    "\n",
    "    \n",
    "    print(list(models.keys())[i])\n",
    "    model_list.append(list(models.keys())[i])\n",
    "    \n",
    "    print('Model performance for Training set')\n",
    "    print(\"- Root Mean Squared Error: {:.4f}\".format(model_train_rmse))\n",
    "    print(\"- Mean Absolute Error: {:.4f}\".format(model_train_mae))\n",
    "    print(\"- R2 Score: {:.4f}\".format(model_train_r2))\n",
    "\n",
    "    print('----------------------------------')\n",
    "    \n",
    "    print('Model performance for Test set')\n",
    "    print(\"- Root Mean Squared Error: {:.4f}\".format(model_test_rmse))\n",
    "    print(\"- Mean Absolute Error: {:.4f}\".format(model_test_mae))\n",
    "    print(\"- R2 Score: {:.4f}\".format(model_test_r2))\n",
    "    r2_list.append(model_test_r2)\n",
    "    \n",
    "    print('='*35)\n",
    "    print('\\n')"
   ]
  },
  {
   "cell_type": "markdown",
   "id": "678d57ec",
   "metadata": {},
   "source": [
    "# Results"
   ]
  },
  {
   "cell_type": "code",
   "execution_count": 35,
   "id": "b465c522",
   "metadata": {},
   "outputs": [
    {
     "data": {
      "text/html": [
       "<div>\n",
       "<style scoped>\n",
       "    .dataframe tbody tr th:only-of-type {\n",
       "        vertical-align: middle;\n",
       "    }\n",
       "\n",
       "    .dataframe tbody tr th {\n",
       "        vertical-align: top;\n",
       "    }\n",
       "\n",
       "    .dataframe thead th {\n",
       "        text-align: right;\n",
       "    }\n",
       "</style>\n",
       "<table border=\"1\" class=\"dataframe\">\n",
       "  <thead>\n",
       "    <tr style=\"text-align: right;\">\n",
       "      <th></th>\n",
       "      <th>Model Name</th>\n",
       "      <th>R2_Score</th>\n",
       "    </tr>\n",
       "  </thead>\n",
       "  <tbody>\n",
       "    <tr>\n",
       "      <th>3</th>\n",
       "      <td>K-Neighbors Regressor</td>\n",
       "      <td>0.915525</td>\n",
       "    </tr>\n",
       "    <tr>\n",
       "      <th>2</th>\n",
       "      <td>Ridge</td>\n",
       "      <td>0.898312</td>\n",
       "    </tr>\n",
       "    <tr>\n",
       "      <th>0</th>\n",
       "      <td>Linear Regression</td>\n",
       "      <td>0.894090</td>\n",
       "    </tr>\n",
       "    <tr>\n",
       "      <th>5</th>\n",
       "      <td>Random Forest Regressor</td>\n",
       "      <td>0.871759</td>\n",
       "    </tr>\n",
       "    <tr>\n",
       "      <th>7</th>\n",
       "      <td>AdaBoost Regressor</td>\n",
       "      <td>0.853253</td>\n",
       "    </tr>\n",
       "    <tr>\n",
       "      <th>6</th>\n",
       "      <td>XGBRegressor</td>\n",
       "      <td>0.849365</td>\n",
       "    </tr>\n",
       "    <tr>\n",
       "      <th>4</th>\n",
       "      <td>Decision Tree</td>\n",
       "      <td>0.813109</td>\n",
       "    </tr>\n",
       "    <tr>\n",
       "      <th>1</th>\n",
       "      <td>Lasso</td>\n",
       "      <td>0.442359</td>\n",
       "    </tr>\n",
       "  </tbody>\n",
       "</table>\n",
       "</div>"
      ],
      "text/plain": [
       "                Model Name  R2_Score\n",
       "3    K-Neighbors Regressor  0.915525\n",
       "2                    Ridge  0.898312\n",
       "0        Linear Regression  0.894090\n",
       "5  Random Forest Regressor  0.871759\n",
       "7       AdaBoost Regressor  0.853253\n",
       "6             XGBRegressor  0.849365\n",
       "4            Decision Tree  0.813109\n",
       "1                    Lasso  0.442359"
      ]
     },
     "execution_count": 35,
     "metadata": {},
     "output_type": "execute_result"
    }
   ],
   "source": [
    "pd.DataFrame(list(zip(model_list, r2_list)), columns=['Model Name', 'R2_Score']).sort_values(by=[\"R2_Score\"],ascending=False)"
   ]
  },
  {
   "cell_type": "markdown",
   "id": "1184da52",
   "metadata": {},
   "source": [
    "# Ridge"
   ]
  },
  {
   "cell_type": "code",
   "execution_count": 39,
   "id": "d5c61bf1",
   "metadata": {},
   "outputs": [
    {
     "name": "stdout",
     "output_type": "stream",
     "text": [
      " Accuracy of the model is 89.83\n"
     ]
    }
   ],
   "source": [
    "reg_model = Ridge(fit_intercept=True)\n",
    "reg_model = reg_model.fit(X_train, y_train)\n",
    "y_pred = reg_model.predict(X_test)\n",
    "score = r2_score(y_test, y_pred)*100\n",
    "print(\" Accuracy of the model is %.2f\" %score)"
   ]
  },
  {
   "cell_type": "code",
   "execution_count": 40,
   "id": "c3060c60",
   "metadata": {},
   "outputs": [
    {
     "data": {
      "image/png": "[encoded data removed]",
      "text/plain": [
       "<Figure size 640x480 with 1 Axes>"
      ]
     },
     "metadata": {},
     "output_type": "display_data"
    }
   ],
   "source": [
    "plt.scatter(y_test,y_pred)\n",
    "plt.xlabel('Actual')\n",
    "plt.ylabel('Predicted')"
   ]
  },
  {
   "cell_type": "code",
   "execution_count": 41,
   "id": "b8bd4ff8",
   "metadata": {},
   "outputs": [
    {
     "data": {
      "image/png": "[encoded data removed]",
      "text/plain": [
       "<Figure size 640x480 with 1 Axes>"
      ]
     },
     "metadata": {},
     "output_type": "display_data"
    }
   ],
   "source": [
    "sns.regplot(x=y_test,y=y_pred,ci=None,color ='red');"
   ]
  },
  {
   "cell_type": "markdown",
   "id": "5c163238",
   "metadata": {},
   "source": [
    "#### Difference between Actual and Predicted Values"
   ]
  },
  {
   "cell_type": "code",
   "execution_count": 42,
   "id": "902dbcb5",
   "metadata": {},
   "outputs": [
    {
     "data": {
      "text/html": [
       "<div>\n",
       "<style scoped>\n",
       "    .dataframe tbody tr th:only-of-type {\n",
       "        vertical-align: middle;\n",
       "    }\n",
       "\n",
       "    .dataframe tbody tr th {\n",
       "        vertical-align: top;\n",
       "    }\n",
       "\n",
       "    .dataframe thead th {\n",
       "        text-align: right;\n",
       "    }\n",
       "</style>\n",
       "<table border=\"1\" class=\"dataframe\">\n",
       "  <thead>\n",
       "    <tr style=\"text-align: right;\">\n",
       "      <th></th>\n",
       "      <th>Actual Value</th>\n",
       "      <th>Predicted Value</th>\n",
       "      <th>Difference</th>\n",
       "    </tr>\n",
       "  </thead>\n",
       "  <tbody>\n",
       "    <tr>\n",
       "      <th>62</th>\n",
       "      <td>11.0</td>\n",
       "      <td>10.847913</td>\n",
       "      <td>0.152087</td>\n",
       "    </tr>\n",
       "    <tr>\n",
       "      <th>40</th>\n",
       "      <td>11.0</td>\n",
       "      <td>11.284703</td>\n",
       "      <td>-0.284703</td>\n",
       "    </tr>\n",
       "    <tr>\n",
       "      <th>95</th>\n",
       "      <td>6.5</td>\n",
       "      <td>7.359841</td>\n",
       "      <td>-0.859841</td>\n",
       "    </tr>\n",
       "    <tr>\n",
       "      <th>18</th>\n",
       "      <td>11.0</td>\n",
       "      <td>10.771989</td>\n",
       "      <td>0.228011</td>\n",
       "    </tr>\n",
       "    <tr>\n",
       "      <th>97</th>\n",
       "      <td>7.0</td>\n",
       "      <td>7.655466</td>\n",
       "      <td>-0.655466</td>\n",
       "    </tr>\n",
       "    <tr>\n",
       "      <th>84</th>\n",
       "      <td>9.0</td>\n",
       "      <td>10.911556</td>\n",
       "      <td>-1.911556</td>\n",
       "    </tr>\n",
       "    <tr>\n",
       "      <th>64</th>\n",
       "      <td>11.0</td>\n",
       "      <td>10.290537</td>\n",
       "      <td>0.709463</td>\n",
       "    </tr>\n",
       "    <tr>\n",
       "      <th>42</th>\n",
       "      <td>11.0</td>\n",
       "      <td>11.303982</td>\n",
       "      <td>-0.303982</td>\n",
       "    </tr>\n",
       "    <tr>\n",
       "      <th>10</th>\n",
       "      <td>12.0</td>\n",
       "      <td>11.337452</td>\n",
       "      <td>0.662548</td>\n",
       "    </tr>\n",
       "    <tr>\n",
       "      <th>0</th>\n",
       "      <td>12.0</td>\n",
       "      <td>11.281338</td>\n",
       "      <td>0.718662</td>\n",
       "    </tr>\n",
       "    <tr>\n",
       "      <th>31</th>\n",
       "      <td>6.0</td>\n",
       "      <td>6.817875</td>\n",
       "      <td>-0.817875</td>\n",
       "    </tr>\n",
       "    <tr>\n",
       "      <th>76</th>\n",
       "      <td>12.0</td>\n",
       "      <td>11.359369</td>\n",
       "      <td>0.640631</td>\n",
       "    </tr>\n",
       "    <tr>\n",
       "      <th>47</th>\n",
       "      <td>8.0</td>\n",
       "      <td>8.397270</td>\n",
       "      <td>-0.397270</td>\n",
       "    </tr>\n",
       "    <tr>\n",
       "      <th>26</th>\n",
       "      <td>6.0</td>\n",
       "      <td>6.110646</td>\n",
       "      <td>-0.110646</td>\n",
       "    </tr>\n",
       "    <tr>\n",
       "      <th>44</th>\n",
       "      <td>11.0</td>\n",
       "      <td>10.691250</td>\n",
       "      <td>0.308750</td>\n",
       "    </tr>\n",
       "    <tr>\n",
       "      <th>4</th>\n",
       "      <td>11.0</td>\n",
       "      <td>10.578560</td>\n",
       "      <td>0.421440</td>\n",
       "    </tr>\n",
       "    <tr>\n",
       "      <th>22</th>\n",
       "      <td>7.0</td>\n",
       "      <td>7.453003</td>\n",
       "      <td>-0.453003</td>\n",
       "    </tr>\n",
       "    <tr>\n",
       "      <th>12</th>\n",
       "      <td>11.0</td>\n",
       "      <td>11.072308</td>\n",
       "      <td>-0.072308</td>\n",
       "    </tr>\n",
       "    <tr>\n",
       "      <th>88</th>\n",
       "      <td>11.0</td>\n",
       "      <td>10.655004</td>\n",
       "      <td>0.344996</td>\n",
       "    </tr>\n",
       "    <tr>\n",
       "      <th>73</th>\n",
       "      <td>7.0</td>\n",
       "      <td>8.067564</td>\n",
       "      <td>-1.067564</td>\n",
       "    </tr>\n",
       "  </tbody>\n",
       "</table>\n",
       "</div>"
      ],
      "text/plain": [
       "    Actual Value  Predicted Value  Difference\n",
       "62          11.0        10.847913    0.152087\n",
       "40          11.0        11.284703   -0.284703\n",
       "95           6.5         7.359841   -0.859841\n",
       "18          11.0        10.771989    0.228011\n",
       "97           7.0         7.655466   -0.655466\n",
       "84           9.0        10.911556   -1.911556\n",
       "64          11.0        10.290537    0.709463\n",
       "42          11.0        11.303982   -0.303982\n",
       "10          12.0        11.337452    0.662548\n",
       "0           12.0        11.281338    0.718662\n",
       "31           6.0         6.817875   -0.817875\n",
       "76          12.0        11.359369    0.640631\n",
       "47           8.0         8.397270   -0.397270\n",
       "26           6.0         6.110646   -0.110646\n",
       "44          11.0        10.691250    0.308750\n",
       "4           11.0        10.578560    0.421440\n",
       "22           7.0         7.453003   -0.453003\n",
       "12          11.0        11.072308   -0.072308\n",
       "88          11.0        10.655004    0.344996\n",
       "73           7.0         8.067564   -1.067564"
      ]
     },
     "execution_count": 42,
     "metadata": {},
     "output_type": "execute_result"
    }
   ],
   "source": [
    "pred_df=pd.DataFrame({'Actual Value':y_test,'Predicted Value':y_pred,'Difference':y_test-y_pred})\n",
    "pred_df"
   ]
  },
  {
   "cell_type": "code",
   "execution_count": null,
   "id": "3202329c",
   "metadata": {},
   "outputs": [],
   "source": []
  }
 ],
 "metadata": {
  "kernelspec": {
   "display_name": "Python 3 (ipykernel)",
   "language": "python",
   "name": "python3"
  },
  "language_info": {
   "codemirror_mode": {
    "name": "ipython",
    "version": 3
   },
   "file_extension": ".py",
   "mimetype": "text/x-python",
   "name": "python",
   "nbconvert_exporter": "python",
   "pygments_lexer": "ipython3",
   "version": "3.12.4"
  },
  "widgets": {
   "application/vnd.jupyter.widget-state+json": {
    "state": {},
    "version_major": 2,
    "version_minor": 0
   }
  }
 },
 "nbformat": 4,
 "nbformat_minor": 5
}
